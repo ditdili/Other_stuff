{
 "cells": [
  {
   "cell_type": "code",
   "execution_count": 1,
   "metadata": {
    "scrolled": true
   },
   "outputs": [
    {
     "name": "stderr",
     "output_type": "stream",
     "text": [
      "C:\\ProgramData\\Anaconda3\\envs\\p36\\lib\\site-packages\\h5py\\__init__.py:36: FutureWarning: Conversion of the second argument of issubdtype from `float` to `np.floating` is deprecated. In future, it will be treated as `np.float64 == np.dtype(float).type`.\n",
      "  from ._conv import register_converters as _register_converters\n",
      "Using TensorFlow backend.\n"
     ]
    },
    {
     "data": {
      "text/plain": [
       "'2.1.4'"
      ]
     },
     "execution_count": 1,
     "metadata": {},
     "output_type": "execute_result"
    }
   ],
   "source": [
    "import keras\n",
    "keras.__version__"
   ]
  },
  {
   "cell_type": "code",
   "execution_count": 2,
   "metadata": {},
   "outputs": [],
   "source": [
    "from keras.datasets import reuters\n",
    "(train_data, train_labels), (test_data, test_labels) = reuters.load_data(num_words = 10000)"
   ]
  },
  {
   "cell_type": "code",
   "execution_count": 3,
   "metadata": {},
   "outputs": [
    {
     "name": "stdout",
     "output_type": "stream",
     "text": [
      "8982\n",
      "2246\n"
     ]
    }
   ],
   "source": [
    "print(len(train_data))\n",
    "print(len(test_data))"
   ]
  },
  {
   "cell_type": "code",
   "execution_count": 4,
   "metadata": {},
   "outputs": [
    {
     "name": "stdout",
     "output_type": "stream",
     "text": [
      "[1, 245, 273, 207, 156, 53, 74, 160, 26, 14, 46, 296, 26, 39, 74, 2979, 3554, 14, 46, 4689, 4329, 86, 61, 3499, 4795, 14, 61, 451, 4329, 17, 12]\n"
     ]
    }
   ],
   "source": [
    "print(train_data[10])"
   ]
  },
  {
   "cell_type": "code",
   "execution_count": 5,
   "metadata": {},
   "outputs": [],
   "source": [
    "word_index = reuters.get_word_index()\n",
    "reverse_word_index = dict([(value, key) for (key, value) in word_index.items()])\n",
    "# Note that our indices were offset by 3\n",
    "# because 0, 1 and 2 are reserved indices for \"padding\", \"start of sequence\", and \"unknown\".\n",
    "decoded_newswire = ' '.join([reverse_word_index.get(i - 3, '?') for i in train_data[0]])"
   ]
  },
  {
   "cell_type": "code",
   "execution_count": 6,
   "metadata": {},
   "outputs": [
    {
     "data": {
      "text/plain": [
       "'? ? ? said as a result of its december acquisition of space co it expects earnings per share in 1987 of 1 15 to 1 30 dlrs per share up from 70 cts in 1986 the company said pretax net should rise to nine to 10 mln dlrs from six mln dlrs in 1986 and rental operation revenues to 19 to 22 mln dlrs from 12 5 mln dlrs it said cash flow per share this year should be 2 50 to three dlrs reuter 3'"
      ]
     },
     "execution_count": 6,
     "metadata": {},
     "output_type": "execute_result"
    }
   ],
   "source": [
    "decoded_newswire"
   ]
  },
  {
   "cell_type": "code",
   "execution_count": 7,
   "metadata": {},
   "outputs": [
    {
     "data": {
      "text/plain": [
       "3"
      ]
     },
     "execution_count": 7,
     "metadata": {},
     "output_type": "execute_result"
    }
   ],
   "source": [
    "train_labels[10]"
   ]
  },
  {
   "cell_type": "code",
   "execution_count": 9,
   "metadata": {},
   "outputs": [],
   "source": [
    "import numpy as np\n",
    "\n",
    "def vectorize_sequences(sequences, dimension=10000):\n",
    "    results = np.zeros((len(sequences), dimension))\n",
    "    for i, sequence in enumerate(sequences):\n",
    "        results[i, sequence] = 1.\n",
    "    return results\n",
    "\n",
    "# vectorized training data\n",
    "x_train = vectorize_sequences(train_data)\n",
    "\n",
    "# vectorized test data\n",
    "x_test = vectorize_sequences(test_data)"
   ]
  },
  {
   "cell_type": "code",
   "execution_count": 11,
   "metadata": {},
   "outputs": [],
   "source": [
    "def to_one_hot(labels, dimension=46):\n",
    "    results = np.zeros((len(labels), dimension))\n",
    "    for i, label in enumerate(labels):\n",
    "        results[i, label] = 1.\n",
    "    return results\n",
    "\n",
    "one_hot_train_labels = to_one_hot(train_labels)\n",
    "one_hot_test_labels = to_one_hot(test_labels)"
   ]
  },
  {
   "cell_type": "code",
   "execution_count": 12,
   "metadata": {},
   "outputs": [],
   "source": [
    "# Or by keras built-in method\n",
    "from keras.utils.np_utils import to_categorical\n",
    "\n",
    "one_hot_train_labels = to_categorical(train_labels)\n",
    "one_hot_test_labels = to_categorical(test_labels)"
   ]
  },
  {
   "cell_type": "code",
   "execution_count": 17,
   "metadata": {},
   "outputs": [],
   "source": [
    "from keras import models\n",
    "from keras import layers\n",
    "\n",
    "model = models.Sequential()\n",
    "model.add(layers.Dense(64, activation='relu', input_shape=(10000,)))\n",
    "model.add(layers.Dense(64, activation='relu'))\n",
    "model.add(layers.Dense(46, activation='softmax'))"
   ]
  },
  {
   "cell_type": "code",
   "execution_count": 18,
   "metadata": {},
   "outputs": [],
   "source": [
    "model.compile(optimizer='rmsprop',\n",
    "             loss='categorical_crossentropy',\n",
    "             metrics=['accuracy'])"
   ]
  },
  {
   "cell_type": "code",
   "execution_count": 19,
   "metadata": {},
   "outputs": [],
   "source": [
    "x_val = x_train[:1000]\n",
    "partial_x_train = x_train[1000:]\n",
    "\n",
    "y_val = one_hot_train_labels[:1000]\n",
    "partial_y_train = one_hot_train_labels[1000:]"
   ]
  },
  {
   "cell_type": "code",
   "execution_count": 20,
   "metadata": {},
   "outputs": [
    {
     "name": "stdout",
     "output_type": "stream",
     "text": [
      "Train on 7982 samples, validate on 1000 samples\n",
      "Epoch 1/20\n",
      "7982/7982 [==============================] - 4s 462us/step - loss: 2.4997 - acc: 0.4899 - val_loss: 1.6813 - val_acc: 0.6480\n",
      "Epoch 2/20\n",
      "7982/7982 [==============================] - 1s 93us/step - loss: 1.3915 - acc: 0.7038 - val_loss: 1.2790 - val_acc: 0.7190\n",
      "Epoch 3/20\n",
      "7982/7982 [==============================] - 1s 90us/step - loss: 1.0487 - acc: 0.7699 - val_loss: 1.1181 - val_acc: 0.7610\n",
      "Epoch 4/20\n",
      "7982/7982 [==============================] - 1s 93us/step - loss: 0.8246 - acc: 0.8282 - val_loss: 1.0217 - val_acc: 0.7760\n",
      "Epoch 5/20\n",
      "7982/7982 [==============================] - 1s 87us/step - loss: 0.6599 - acc: 0.8637 - val_loss: 0.9688 - val_acc: 0.7970\n",
      "Epoch 6/20\n",
      "7982/7982 [==============================] - 1s 93us/step - loss: 0.5254 - acc: 0.8931 - val_loss: 0.9200 - val_acc: 0.8090\n",
      "Epoch 7/20\n",
      "7982/7982 [==============================] - 1s 89us/step - loss: 0.4291 - acc: 0.9118 - val_loss: 0.9108 - val_acc: 0.8030\n",
      "Epoch 8/20\n",
      "7982/7982 [==============================] - 1s 92us/step - loss: 0.3497 - acc: 0.9277 - val_loss: 0.8937 - val_acc: 0.8150\n",
      "Epoch 9/20\n",
      "7982/7982 [==============================] - 1s 90us/step - loss: 0.2893 - acc: 0.9386 - val_loss: 0.9128 - val_acc: 0.8090\n",
      "Epoch 10/20\n",
      "7982/7982 [==============================] - 1s 89us/step - loss: 0.2450 - acc: 0.9453 - val_loss: 0.9114 - val_acc: 0.8100\n",
      "Epoch 11/20\n",
      "7982/7982 [==============================] - 1s 90us/step - loss: 0.2102 - acc: 0.9481 - val_loss: 0.9482 - val_acc: 0.8130\n",
      "Epoch 12/20\n",
      "7982/7982 [==============================] - 1s 88us/step - loss: 0.1878 - acc: 0.9528 - val_loss: 0.9613 - val_acc: 0.8040\n",
      "Epoch 13/20\n",
      "7982/7982 [==============================] - 1s 90us/step - loss: 0.1658 - acc: 0.9529 - val_loss: 0.9926 - val_acc: 0.8010\n",
      "Epoch 14/20\n",
      "7982/7982 [==============================] - 1s 89us/step - loss: 0.1532 - acc: 0.9550 - val_loss: 0.9772 - val_acc: 0.8050\n",
      "Epoch 15/20\n",
      "7982/7982 [==============================] - 1s 87us/step - loss: 0.1456 - acc: 0.9550 - val_loss: 1.0188 - val_acc: 0.7990\n",
      "Epoch 16/20\n",
      "7982/7982 [==============================] - 1s 87us/step - loss: 0.1326 - acc: 0.9554 - val_loss: 1.0390 - val_acc: 0.8000\n",
      "Epoch 17/20\n",
      "7982/7982 [==============================] - 1s 90us/step - loss: 0.1255 - acc: 0.9554 - val_loss: 1.0423 - val_acc: 0.7970\n",
      "Epoch 18/20\n",
      "7982/7982 [==============================] - 1s 89us/step - loss: 0.1170 - acc: 0.9560 - val_loss: 1.0367 - val_acc: 0.8150\n",
      "Epoch 19/20\n",
      "7982/7982 [==============================] - 1s 88us/step - loss: 0.1157 - acc: 0.9573 - val_loss: 1.0290 - val_acc: 0.8080\n",
      "Epoch 20/20\n",
      "7982/7982 [==============================] - 1s 90us/step - loss: 0.1136 - acc: 0.9582 - val_loss: 1.0496 - val_acc: 0.8030\n"
     ]
    }
   ],
   "source": [
    "# Training the network for 20 epochs\n",
    "history = model.fit(partial_x_train,\n",
    "                   partial_y_train,\n",
    "                   epochs=20,\n",
    "                   batch_size=512,\n",
    "                   validation_data = (x_val, y_val))"
   ]
  },
  {
   "cell_type": "code",
   "execution_count": 22,
   "metadata": {},
   "outputs": [
    {
     "data": {
      "image/png": "[encoded data removed]",
      "text/plain": [
       "<matplotlib.figure.Figure at 0x256a3273898>"
      ]
     },
     "metadata": {},
     "output_type": "display_data"
    }
   ],
   "source": [
    "import matplotlib.pyplot as plt\n",
    "\n",
    "loss = history.history['loss']\n",
    "val_loss = history.history['val_loss']\n",
    "\n",
    "epochs = range(1, len(loss) + 1)\n",
    "\n",
    "# \"bo\" is for \"blue dot\"\n",
    "plt.plot(epochs, loss, 'bo', label='Training loss')\n",
    "# b is for \"solid blue line\"\n",
    "plt.plot(epochs, val_loss, 'b', label='Validation loss')\n",
    "plt.title('Training and validation loss')\n",
    "plt.xlabel('Epochs')\n",
    "plt.ylabel('Loss')\n",
    "plt.legend()\n",
    "\n",
    "plt.show()"
   ]
  },
  {
   "cell_type": "code",
   "execution_count": 25,
   "metadata": {},
   "outputs": [
    {
     "data": {
      "image/png": "[encoded data removed]",
      "text/plain": [
       "<matplotlib.figure.Figure at 0x256a3273710>"
      ]
     },
     "metadata": {},
     "output_type": "display_data"
    }
   ],
   "source": [
    "plt.clf()   # clear figure\n",
    "acc = history.history['acc']\n",
    "val_acc = history.history['val_acc']\n",
    "\n",
    "plt.plot(epochs, acc, 'bo', label='Training acc')\n",
    "plt.plot(epochs, val_acc, 'b', label='Validation acc')\n",
    "plt.title('Training and validation accuracy')\n",
    "plt.xlabel('Epochs')\n",
    "plt.ylabel('Accuracy')\n",
    "plt.legend()\n",
    "\n",
    "plt.show()"
   ]
  },
  {
   "cell_type": "code",
   "execution_count": 26,
   "metadata": {},
   "outputs": [
    {
     "name": "stdout",
     "output_type": "stream",
     "text": [
      "Train on 7982 samples, validate on 1000 samples\n",
      "Epoch 1/8\n",
      "7982/7982 [==============================] - 1s 131us/step - loss: 2.5398 - acc: 0.5226 - val_loss: 1.6733 - val_acc: 0.6570\n",
      "Epoch 2/8\n",
      "7982/7982 [==============================] - 1s 89us/step - loss: 1.3712 - acc: 0.7121 - val_loss: 1.2758 - val_acc: 0.7210\n",
      "Epoch 3/8\n",
      "7982/7982 [==============================] - 1s 91us/step - loss: 1.0136 - acc: 0.7781 - val_loss: 1.1303 - val_acc: 0.7530\n",
      "Epoch 4/8\n",
      "7982/7982 [==============================] - 1s 90us/step - loss: 0.7976 - acc: 0.8251 - val_loss: 1.0539 - val_acc: 0.7590\n",
      "Epoch 5/8\n",
      "7982/7982 [==============================] - 1s 92us/step - loss: 0.6393 - acc: 0.8624 - val_loss: 0.9754 - val_acc: 0.7920\n",
      "Epoch 6/8\n",
      "7982/7982 [==============================] - 1s 88us/step - loss: 0.5124 - acc: 0.8921 - val_loss: 0.9102 - val_acc: 0.8140\n",
      "Epoch 7/8\n",
      "7982/7982 [==============================] - 1s 90us/step - loss: 0.4124 - acc: 0.9139 - val_loss: 0.8932 - val_acc: 0.8210\n",
      "Epoch 8/8\n",
      "7982/7982 [==============================] - 1s 92us/step - loss: 0.3355 - acc: 0.9290 - val_loss: 0.8733 - val_acc: 0.8260\n",
      "2246/2246 [==============================] - 0s 161us/step\n"
     ]
    }
   ],
   "source": [
    "model = models.Sequential()\n",
    "model.add(layers.Dense(64, activation='relu', input_shape=(10000,)))\n",
    "model.add(layers.Dense(64, activation='relu'))\n",
    "model.add(layers.Dense(46, activation='softmax'))\n",
    "\n",
    "model.compile(optimizer='rmsprop',\n",
    "             loss='categorical_crossentropy',\n",
    "             metrics=['accuracy'])\n",
    "\n",
    "# Training the network for 20 epochs\n",
    "history = model.fit(partial_x_train,\n",
    "                   partial_y_train,\n",
    "                   epochs=8,\n",
    "                   batch_size=512,\n",
    "                   validation_data = (x_val, y_val))\n",
    "\n",
    "results = model.evaluate(x_test, one_hot_test_labels)"
   ]
  },
  {
   "cell_type": "code",
   "execution_count": 27,
   "metadata": {},
   "outputs": [
    {
     "data": {
      "text/plain": [
       "[0.9844293263164463, 0.7836153161175423]"
      ]
     },
     "execution_count": 27,
     "metadata": {},
     "output_type": "execute_result"
    }
   ],
   "source": [
    "results"
   ]
  },
  {
   "cell_type": "code",
   "execution_count": 28,
   "metadata": {},
   "outputs": [
    {
     "data": {
      "text/plain": [
       "0.19679430097951914"
      ]
     },
     "execution_count": 28,
     "metadata": {},
     "output_type": "execute_result"
    }
   ],
   "source": [
    "import copy\n",
    "\n",
    "test_labels_copy = copy.copy(test_labels)\n",
    "np.random.shuffle(test_labels_copy)\n",
    "float(np.sum(np.array(test_labels) == np.array(test_labels_copy))) / len(test_labels)"
   ]
  },
  {
   "cell_type": "markdown",
   "metadata": {},
   "source": [
    "#### Generating predictions on new data"
   ]
  },
  {
   "cell_type": "code",
   "execution_count": 29,
   "metadata": {},
   "outputs": [],
   "source": [
    "predictions = model.predict(x_test)"
   ]
  },
  {
   "cell_type": "code",
   "execution_count": 30,
   "metadata": {},
   "outputs": [
    {
     "data": {
      "text/plain": [
       "(46,)"
      ]
     },
     "execution_count": 30,
     "metadata": {},
     "output_type": "execute_result"
    }
   ],
   "source": [
    "predictions[0].shape"
   ]
  },
  {
   "cell_type": "code",
   "execution_count": 31,
   "metadata": {},
   "outputs": [
    {
     "data": {
      "text/plain": [
       "1.0000004"
      ]
     },
     "execution_count": 31,
     "metadata": {},
     "output_type": "execute_result"
    }
   ],
   "source": [
    "np.sum(predictions[0])"
   ]
  },
  {
   "cell_type": "code",
   "execution_count": 32,
   "metadata": {},
   "outputs": [
    {
     "data": {
      "text/plain": [
       "3"
      ]
     },
     "execution_count": 32,
     "metadata": {},
     "output_type": "execute_result"
    }
   ],
   "source": [
    "np.argmax(predictions[0])"
   ]
  },
  {
   "cell_type": "code",
   "execution_count": 34,
   "metadata": {},
   "outputs": [
    {
     "name": "stdout",
     "output_type": "stream",
     "text": [
      "Train on 7982 samples, validate on 1000 samples\n",
      "Epoch 1/20\n",
      "7982/7982 [==============================] - 1s 127us/step - loss: 3.4021 - acc: 0.2959 - val_loss: 2.9755 - val_acc: 0.5710\n",
      "Epoch 2/20\n",
      "7982/7982 [==============================] - 1s 92us/step - loss: 2.6915 - acc: 0.5735 - val_loss: 2.4263 - val_acc: 0.5930\n",
      "Epoch 3/20\n",
      "7982/7982 [==============================] - 1s 90us/step - loss: 2.1771 - acc: 0.6045 - val_loss: 2.0529 - val_acc: 0.5920\n",
      "Epoch 4/20\n",
      "7982/7982 [==============================] - 1s 95us/step - loss: 1.8147 - acc: 0.6188 - val_loss: 1.7789 - val_acc: 0.6140\n",
      "Epoch 5/20\n",
      "7982/7982 [==============================] - 1s 91us/step - loss: 1.5728 - acc: 0.6278 - val_loss: 1.6205 - val_acc: 0.6240\n",
      "Epoch 6/20\n",
      "7982/7982 [==============================] - 1s 90us/step - loss: 1.4038 - acc: 0.6612 - val_loss: 1.5234 - val_acc: 0.6860\n",
      "Epoch 7/20\n",
      "7982/7982 [==============================] - 1s 92us/step - loss: 1.2762 - acc: 0.7184 - val_loss: 1.4582 - val_acc: 0.6860\n",
      "Epoch 8/20\n",
      "7982/7982 [==============================] - 1s 90us/step - loss: 1.1791 - acc: 0.7309 - val_loss: 1.4225 - val_acc: 0.6980\n",
      "Epoch 9/20\n",
      "7982/7982 [==============================] - 1s 91us/step - loss: 1.1044 - acc: 0.7405 - val_loss: 1.3873 - val_acc: 0.7000\n",
      "Epoch 10/20\n",
      "7982/7982 [==============================] - 1s 93us/step - loss: 1.0431 - acc: 0.7478 - val_loss: 1.3673 - val_acc: 0.7010\n",
      "Epoch 11/20\n",
      "7982/7982 [==============================] - 1s 89us/step - loss: 0.9943 - acc: 0.7537 - val_loss: 1.3669 - val_acc: 0.7040\n",
      "Epoch 12/20\n",
      "7982/7982 [==============================] - 1s 91us/step - loss: 0.9532 - acc: 0.7596 - val_loss: 1.3693 - val_acc: 0.7030\n",
      "Epoch 13/20\n",
      "7982/7982 [==============================] - 1s 94us/step - loss: 0.9126 - acc: 0.7638 - val_loss: 1.3790 - val_acc: 0.6960\n",
      "Epoch 14/20\n",
      "7982/7982 [==============================] - 1s 91us/step - loss: 0.8793 - acc: 0.7658 - val_loss: 1.3730 - val_acc: 0.7020\n",
      "Epoch 15/20\n",
      "7982/7982 [==============================] - 1s 92us/step - loss: 0.8449 - acc: 0.7754 - val_loss: 1.3902 - val_acc: 0.7000\n",
      "Epoch 16/20\n",
      "7982/7982 [==============================] - 1s 91us/step - loss: 0.8160 - acc: 0.7834 - val_loss: 1.4030 - val_acc: 0.7000\n",
      "Epoch 17/20\n",
      "7982/7982 [==============================] - 1s 90us/step - loss: 0.7848 - acc: 0.7910 - val_loss: 1.3975 - val_acc: 0.7040\n",
      "Epoch 18/20\n",
      "7982/7982 [==============================] - 1s 92us/step - loss: 0.7594 - acc: 0.7973 - val_loss: 1.4327 - val_acc: 0.7010\n",
      "Epoch 19/20\n",
      "7982/7982 [==============================] - 1s 92us/step - loss: 0.7336 - acc: 0.8013 - val_loss: 1.4709 - val_acc: 0.6950\n",
      "Epoch 20/20\n",
      "7982/7982 [==============================] - 1s 92us/step - loss: 0.7089 - acc: 0.8038 - val_loss: 1.4471 - val_acc: 0.7070\n"
     ]
    },
    {
     "data": {
      "text/plain": [
       "<keras.callbacks.History at 0x256d0bb8b00>"
      ]
     },
     "execution_count": 34,
     "metadata": {},
     "output_type": "execute_result"
    }
   ],
   "source": [
    "model = models.Sequential()\n",
    "model.add(layers.Dense(64, activation='relu', input_shape=(10000,)))\n",
    "model.add(layers.Dense(4, activation='relu'))\n",
    "model.add(layers.Dense(46, activation='softmax'))\n",
    "\n",
    "model.compile(optimizer='rmsprop',\n",
    "             loss='categorical_crossentropy',\n",
    "             metrics=['accuracy'])\n",
    "\n",
    "# Training the network for 20 epochs\n",
    "model.fit(partial_x_train,\n",
    "       partial_y_train,\n",
    "       epochs=20,\n",
    "       batch_size=512,\n",
    "       validation_data = (x_val, y_val))"
   ]
  },
  {
   "cell_type": "code",
   "execution_count": 35,
   "metadata": {},
   "outputs": [
    {
     "name": "stdout",
     "output_type": "stream",
     "text": [
      "Train on 7982 samples, validate on 1000 samples\n",
      "Epoch 1/20\n",
      "7982/7982 [==============================] - 1s 130us/step - loss: 2.2326 - acc: 0.5570 - val_loss: 1.4157 - val_acc: 0.6920\n",
      "Epoch 2/20\n",
      "7982/7982 [==============================] - 1s 91us/step - loss: 1.1268 - acc: 0.7577 - val_loss: 1.1093 - val_acc: 0.7550\n",
      "Epoch 3/20\n",
      "7982/7982 [==============================] - 1s 95us/step - loss: 0.7927 - acc: 0.8325 - val_loss: 0.9844 - val_acc: 0.7980\n",
      "Epoch 4/20\n",
      "7982/7982 [==============================] - 1s 95us/step - loss: 0.5614 - acc: 0.8845 - val_loss: 0.9127 - val_acc: 0.8050\n",
      "Epoch 5/20\n",
      "7982/7982 [==============================] - 1s 95us/step - loss: 0.4161 - acc: 0.9127 - val_loss: 0.9436 - val_acc: 0.7880\n",
      "Epoch 6/20\n",
      "7982/7982 [==============================] - 1s 94us/step - loss: 0.3185 - acc: 0.9328 - val_loss: 0.8559 - val_acc: 0.8230\n",
      "Epoch 7/20\n",
      "7982/7982 [==============================] - 1s 92us/step - loss: 0.2444 - acc: 0.9437 - val_loss: 0.9105 - val_acc: 0.8160\n",
      "Epoch 8/20\n",
      "7982/7982 [==============================] - 1s 94us/step - loss: 0.2058 - acc: 0.9491 - val_loss: 0.8883 - val_acc: 0.8280\n",
      "Epoch 9/20\n",
      "7982/7982 [==============================] - 1s 93us/step - loss: 0.1875 - acc: 0.9513 - val_loss: 0.9927 - val_acc: 0.7920\n",
      "Epoch 10/20\n",
      "7982/7982 [==============================] - 1s 93us/step - loss: 0.1617 - acc: 0.9536 - val_loss: 0.9958 - val_acc: 0.7950\n",
      "Epoch 11/20\n",
      "7982/7982 [==============================] - 1s 91us/step - loss: 0.1491 - acc: 0.9551 - val_loss: 0.9715 - val_acc: 0.8090\n",
      "Epoch 12/20\n",
      "7982/7982 [==============================] - 1s 94us/step - loss: 0.1434 - acc: 0.9562 - val_loss: 0.9772 - val_acc: 0.8130\n",
      "Epoch 13/20\n",
      "7982/7982 [==============================] - 1s 92us/step - loss: 0.1307 - acc: 0.9565 - val_loss: 1.0053 - val_acc: 0.8000\n",
      "Epoch 14/20\n",
      "7982/7982 [==============================] - 1s 92us/step - loss: 0.1262 - acc: 0.9572 - val_loss: 1.0187 - val_acc: 0.8060\n",
      "Epoch 15/20\n",
      "7982/7982 [==============================] - 1s 94us/step - loss: 0.1223 - acc: 0.9575 - val_loss: 1.0145 - val_acc: 0.8050\n",
      "Epoch 16/20\n",
      "7982/7982 [==============================] - 1s 92us/step - loss: 0.1136 - acc: 0.9578 - val_loss: 1.1203 - val_acc: 0.7900\n",
      "Epoch 17/20\n",
      "7982/7982 [==============================] - 1s 94us/step - loss: 0.1133 - acc: 0.9612 - val_loss: 1.0801 - val_acc: 0.7900\n",
      "Epoch 18/20\n",
      "7982/7982 [==============================] - 1s 92us/step - loss: 0.1173 - acc: 0.9558 - val_loss: 1.0349 - val_acc: 0.8100\n",
      "Epoch 19/20\n",
      "7982/7982 [==============================] - 1s 91us/step - loss: 0.1083 - acc: 0.9582 - val_loss: 1.0966 - val_acc: 0.7870\n",
      "Epoch 20/20\n",
      "7982/7982 [==============================] - 1s 93us/step - loss: 0.1120 - acc: 0.9558 - val_loss: 1.1151 - val_acc: 0.7920\n"
     ]
    },
    {
     "data": {
      "text/plain": [
       "<keras.callbacks.History at 0x25706711748>"
      ]
     },
     "execution_count": 35,
     "metadata": {},
     "output_type": "execute_result"
    }
   ],
   "source": [
    "model = models.Sequential()\n",
    "model.add(layers.Dense(128, activation='relu', input_shape=(10000,)))\n",
    "model.add(layers.Dense(128, activation='relu'))\n",
    "model.add(layers.Dense(46, activation='softmax'))\n",
    "\n",
    "model.compile(optimizer='rmsprop',\n",
    "             loss='categorical_crossentropy',\n",
    "             metrics=['accuracy'])\n",
    "\n",
    "# Training the network for 20 epochs\n",
    "model.fit(partial_x_train,\n",
    "       partial_y_train,\n",
    "       epochs=20,\n",
    "       batch_size=512,\n",
    "       validation_data = (x_val, y_val))"
   ]
  },
  {
   "cell_type": "code",
   "execution_count": 36,
   "metadata": {},
   "outputs": [
    {
     "name": "stdout",
     "output_type": "stream",
     "text": [
      "Train on 7982 samples, validate on 1000 samples\n",
      "Epoch 1/20\n",
      "7982/7982 [==============================] - 1s 128us/step - loss: 2.8416 - acc: 0.5287 - val_loss: 1.9858 - val_acc: 0.6250\n",
      "Epoch 2/20\n",
      "7982/7982 [==============================] - 1s 89us/step - loss: 1.6520 - acc: 0.6798 - val_loss: 1.4847 - val_acc: 0.6770\n",
      "Epoch 3/20\n",
      "7982/7982 [==============================] - 1s 95us/step - loss: 1.2684 - acc: 0.7281 - val_loss: 1.2797 - val_acc: 0.7150\n",
      "Epoch 4/20\n",
      "7982/7982 [==============================] - 1s 94us/step - loss: 1.0507 - acc: 0.7729 - val_loss: 1.1728 - val_acc: 0.7510\n",
      "Epoch 5/20\n",
      "7982/7982 [==============================] - 1s 89us/step - loss: 0.8882 - acc: 0.8113 - val_loss: 1.0986 - val_acc: 0.7690\n",
      "Epoch 6/20\n",
      "7982/7982 [==============================] - 1s 91us/step - loss: 0.7542 - acc: 0.8368 - val_loss: 1.0266 - val_acc: 0.7770\n",
      "Epoch 7/20\n",
      "7982/7982 [==============================] - 1s 90us/step - loss: 0.6394 - acc: 0.8597 - val_loss: 0.9862 - val_acc: 0.7930\n",
      "Epoch 8/20\n",
      "7982/7982 [==============================] - 1s 90us/step - loss: 0.5408 - acc: 0.8796 - val_loss: 0.9686 - val_acc: 0.7980\n",
      "Epoch 9/20\n",
      "7982/7982 [==============================] - 1s 91us/step - loss: 0.4595 - acc: 0.8999 - val_loss: 0.9320 - val_acc: 0.7970\n",
      "Epoch 10/20\n",
      "7982/7982 [==============================] - 1s 91us/step - loss: 0.3929 - acc: 0.9152 - val_loss: 0.9254 - val_acc: 0.8050\n",
      "Epoch 11/20\n",
      "7982/7982 [==============================] - 1s 90us/step - loss: 0.3330 - acc: 0.9291 - val_loss: 0.9331 - val_acc: 0.8060\n",
      "Epoch 12/20\n",
      "7982/7982 [==============================] - 1s 88us/step - loss: 0.2925 - acc: 0.9361 - val_loss: 0.9380 - val_acc: 0.8040\n",
      "Epoch 13/20\n",
      "7982/7982 [==============================] - 1s 91us/step - loss: 0.2524 - acc: 0.9416 - val_loss: 0.9292 - val_acc: 0.8150\n",
      "Epoch 14/20\n",
      "7982/7982 [==============================] - 1s 93us/step - loss: 0.2225 - acc: 0.9458 - val_loss: 0.9529 - val_acc: 0.8140\n",
      "Epoch 15/20\n",
      "7982/7982 [==============================] - 1s 93us/step - loss: 0.2017 - acc: 0.9484 - val_loss: 0.9312 - val_acc: 0.8170\n",
      "Epoch 16/20\n",
      "7982/7982 [==============================] - 1s 88us/step - loss: 0.1783 - acc: 0.9510 - val_loss: 0.9529 - val_acc: 0.8120\n",
      "Epoch 17/20\n",
      "7982/7982 [==============================] - 1s 89us/step - loss: 0.1646 - acc: 0.9534 - val_loss: 0.9479 - val_acc: 0.8160\n",
      "Epoch 18/20\n",
      "7982/7982 [==============================] - 1s 88us/step - loss: 0.1530 - acc: 0.9529 - val_loss: 0.9772 - val_acc: 0.8140\n",
      "Epoch 19/20\n",
      "7982/7982 [==============================] - 1s 90us/step - loss: 0.1421 - acc: 0.9548 - val_loss: 0.9808 - val_acc: 0.8120\n",
      "Epoch 20/20\n",
      "7982/7982 [==============================] - 1s 88us/step - loss: 0.1371 - acc: 0.9553 - val_loss: 1.0257 - val_acc: 0.8060\n"
     ]
    },
    {
     "data": {
      "text/plain": [
       "<keras.callbacks.History at 0x2582d62db00>"
      ]
     },
     "execution_count": 36,
     "metadata": {},
     "output_type": "execute_result"
    }
   ],
   "source": [
    "model = models.Sequential()\n",
    "model.add(layers.Dense(32, activation='relu', input_shape=(10000,)))\n",
    "model.add(layers.Dense(64, activation='relu'))\n",
    "model.add(layers.Dense(46, activation='softmax'))\n",
    "\n",
    "model.compile(optimizer='rmsprop',\n",
    "             loss='categorical_crossentropy',\n",
    "             metrics=['accuracy'])\n",
    "\n",
    "# Training the network for 20 epochs\n",
    "model.fit(partial_x_train,\n",
    "       partial_y_train,\n",
    "       epochs=20,\n",
    "       batch_size=512,\n",
    "       validation_data = (x_val, y_val))"
   ]
  },
  {
   "cell_type": "code",
   "execution_count": 37,
   "metadata": {},
   "outputs": [
    {
     "name": "stdout",
     "output_type": "stream",
     "text": [
      "Train on 7982 samples, validate on 1000 samples\n",
      "Epoch 1/20\n",
      "7982/7982 [==============================] - 1s 135us/step - loss: 2.6184 - acc: 0.4607 - val_loss: 1.7149 - val_acc: 0.6150\n",
      "Epoch 2/20\n",
      "7982/7982 [==============================] - 1s 92us/step - loss: 1.4662 - acc: 0.6833 - val_loss: 1.3544 - val_acc: 0.6880\n",
      "Epoch 3/20\n",
      "7982/7982 [==============================] - 1s 89us/step - loss: 1.1377 - acc: 0.7400 - val_loss: 1.2025 - val_acc: 0.7320\n",
      "Epoch 4/20\n",
      "7982/7982 [==============================] - 1s 88us/step - loss: 0.8902 - acc: 0.8029 - val_loss: 1.0986 - val_acc: 0.7700\n",
      "Epoch 5/20\n",
      "7982/7982 [==============================] - 1s 91us/step - loss: 0.7241 - acc: 0.8365 - val_loss: 1.0327 - val_acc: 0.7750\n",
      "Epoch 6/20\n",
      "7982/7982 [==============================] - 1s 90us/step - loss: 0.5602 - acc: 0.8730 - val_loss: 1.0594 - val_acc: 0.7650\n",
      "Epoch 7/20\n",
      "7982/7982 [==============================] - 1s 92us/step - loss: 0.4617 - acc: 0.8961 - val_loss: 1.0001 - val_acc: 0.7950\n",
      "Epoch 8/20\n",
      "7982/7982 [==============================] - 1s 91us/step - loss: 0.3703 - acc: 0.9182 - val_loss: 0.9828 - val_acc: 0.7920\n",
      "Epoch 9/20\n",
      "7982/7982 [==============================] - 1s 94us/step - loss: 0.3012 - acc: 0.9322 - val_loss: 0.9888 - val_acc: 0.7970\n",
      "Epoch 10/20\n",
      "7982/7982 [==============================] - 1s 91us/step - loss: 0.2662 - acc: 0.9412 - val_loss: 0.9928 - val_acc: 0.8050\n",
      "Epoch 11/20\n",
      "7982/7982 [==============================] - 1s 94us/step - loss: 0.2131 - acc: 0.9470 - val_loss: 1.0305 - val_acc: 0.8080\n",
      "Epoch 12/20\n",
      "7982/7982 [==============================] - 1s 91us/step - loss: 0.2015 - acc: 0.9503 - val_loss: 1.0639 - val_acc: 0.8000\n",
      "Epoch 13/20\n",
      "7982/7982 [==============================] - 1s 91us/step - loss: 0.1716 - acc: 0.9534 - val_loss: 1.0813 - val_acc: 0.8030\n",
      "Epoch 14/20\n",
      "7982/7982 [==============================] - 1s 92us/step - loss: 0.1648 - acc: 0.9529 - val_loss: 1.1214 - val_acc: 0.7970\n",
      "Epoch 15/20\n",
      "7982/7982 [==============================] - 1s 94us/step - loss: 0.1435 - acc: 0.9549 - val_loss: 1.0773 - val_acc: 0.8050\n",
      "Epoch 16/20\n",
      "7982/7982 [==============================] - 1s 93us/step - loss: 0.1427 - acc: 0.9570 - val_loss: 1.1457 - val_acc: 0.8020\n",
      "Epoch 17/20\n",
      "7982/7982 [==============================] - 1s 94us/step - loss: 0.1359 - acc: 0.9578 - val_loss: 1.1636 - val_acc: 0.7990\n",
      "Epoch 18/20\n",
      "7982/7982 [==============================] - 1s 92us/step - loss: 0.1302 - acc: 0.9565 - val_loss: 1.1306 - val_acc: 0.7980\n",
      "Epoch 19/20\n",
      "7982/7982 [==============================] - 1s 90us/step - loss: 0.1261 - acc: 0.9575 - val_loss: 1.2899 - val_acc: 0.7850\n",
      "Epoch 20/20\n",
      "7982/7982 [==============================] - 1s 94us/step - loss: 0.1210 - acc: 0.9584 - val_loss: 1.3829 - val_acc: 0.7570\n"
     ]
    },
    {
     "data": {
      "text/plain": [
       "<keras.callbacks.History at 0x25835efb898>"
      ]
     },
     "execution_count": 37,
     "metadata": {},
     "output_type": "execute_result"
    }
   ],
   "source": [
    "model = models.Sequential()\n",
    "model.add(layers.Dense(64, activation='relu', input_shape=(10000,)))\n",
    "model.add(layers.Dense(64, activation='relu'))\n",
    "model.add(layers.Dense(64, activation='relu'))\n",
    "model.add(layers.Dense(46, activation='softmax'))\n",
    "\n",
    "model.compile(optimizer='rmsprop',\n",
    "             loss='categorical_crossentropy',\n",
    "             metrics=['accuracy'])\n",
    "\n",
    "# Training the network for 20 epochs\n",
    "model.fit(partial_x_train,\n",
    "       partial_y_train,\n",
    "       epochs=20,\n",
    "       batch_size=512,\n",
    "       validation_data = (x_val, y_val))"
   ]
  },
  {
   "cell_type": "code",
   "execution_count": 38,
   "metadata": {},
   "outputs": [
    {
     "name": "stdout",
     "output_type": "stream",
     "text": [
      "Train on 7982 samples, validate on 1000 samples\n",
      "Epoch 1/20\n",
      "7982/7982 [==============================] - 1s 138us/step - loss: 2.7383 - acc: 0.4118 - val_loss: 1.8922 - val_acc: 0.5740\n",
      "Epoch 2/20\n",
      "7982/7982 [==============================] - 1s 93us/step - loss: 1.6048 - acc: 0.6703 - val_loss: 1.4417 - val_acc: 0.6920\n",
      "Epoch 3/20\n",
      "7982/7982 [==============================] - 1s 90us/step - loss: 1.2453 - acc: 0.7286 - val_loss: 1.2748 - val_acc: 0.7120\n",
      "Epoch 4/20\n",
      "7982/7982 [==============================] - 1s 88us/step - loss: 1.0329 - acc: 0.7660 - val_loss: 1.1567 - val_acc: 0.7520\n",
      "Epoch 5/20\n",
      "7982/7982 [==============================] - 1s 89us/step - loss: 0.8632 - acc: 0.8079 - val_loss: 1.0974 - val_acc: 0.7540\n",
      "Epoch 6/20\n",
      "7982/7982 [==============================] - 1s 89us/step - loss: 0.7237 - acc: 0.8385 - val_loss: 1.0362 - val_acc: 0.7660\n",
      "Epoch 7/20\n",
      "7982/7982 [==============================] - 1s 90us/step - loss: 0.6067 - acc: 0.8675 - val_loss: 1.0457 - val_acc: 0.7750\n",
      "Epoch 8/20\n",
      "7982/7982 [==============================] - 1s 90us/step - loss: 0.5058 - acc: 0.8882 - val_loss: 0.9823 - val_acc: 0.7970\n",
      "Epoch 9/20\n",
      "7982/7982 [==============================] - 1s 91us/step - loss: 0.4230 - acc: 0.9069 - val_loss: 0.9906 - val_acc: 0.8050\n",
      "Epoch 10/20\n",
      "7982/7982 [==============================] - 1s 90us/step - loss: 0.3612 - acc: 0.9207 - val_loss: 0.9638 - val_acc: 0.8020\n",
      "Epoch 11/20\n",
      "7982/7982 [==============================] - 1s 89us/step - loss: 0.3096 - acc: 0.9307 - val_loss: 0.9900 - val_acc: 0.7980\n",
      "Epoch 12/20\n",
      "7982/7982 [==============================] - 1s 90us/step - loss: 0.2623 - acc: 0.9367 - val_loss: 1.0174 - val_acc: 0.7990\n",
      "Epoch 13/20\n",
      "7982/7982 [==============================] - 1s 92us/step - loss: 0.2337 - acc: 0.9414 - val_loss: 1.0332 - val_acc: 0.7970\n",
      "Epoch 14/20\n",
      "7982/7982 [==============================] - 1s 89us/step - loss: 0.2039 - acc: 0.9483 - val_loss: 1.0329 - val_acc: 0.8010\n",
      "Epoch 15/20\n",
      "7982/7982 [==============================] - 1s 92us/step - loss: 0.1890 - acc: 0.9523 - val_loss: 1.0763 - val_acc: 0.7910\n",
      "Epoch 16/20\n",
      "7982/7982 [==============================] - 1s 91us/step - loss: 0.1697 - acc: 0.9539 - val_loss: 1.1475 - val_acc: 0.7800\n",
      "Epoch 17/20\n",
      "7982/7982 [==============================] - 1s 94us/step - loss: 0.1551 - acc: 0.9558 - val_loss: 1.2928 - val_acc: 0.7530\n",
      "Epoch 18/20\n",
      "7982/7982 [==============================] - 1s 91us/step - loss: 0.1512 - acc: 0.9573 - val_loss: 1.1744 - val_acc: 0.7860\n",
      "Epoch 19/20\n",
      "7982/7982 [==============================] - 1s 89us/step - loss: 0.1397 - acc: 0.9558 - val_loss: 1.2867 - val_acc: 0.7720\n",
      "Epoch 20/20\n",
      "7982/7982 [==============================] - 1s 92us/step - loss: 0.1373 - acc: 0.9580 - val_loss: 1.1436 - val_acc: 0.7960\n"
     ]
    },
    {
     "data": {
      "text/plain": [
       "<keras.callbacks.History at 0x2583614bf28>"
      ]
     },
     "execution_count": 38,
     "metadata": {},
     "output_type": "execute_result"
    }
   ],
   "source": [
    "model = models.Sequential()\n",
    "model.add(layers.Dense(32, activation='relu', input_shape=(10000,)))\n",
    "model.add(layers.Dense(64, activation='relu'))\n",
    "model.add(layers.Dense(64, activation='relu'))\n",
    "model.add(layers.Dense(46, activation='softmax'))\n",
    "\n",
    "model.compile(optimizer='rmsprop',\n",
    "             loss='categorical_crossentropy',\n",
    "             metrics=['accuracy'])\n",
    "\n",
    "# Training the network for 20 epochs\n",
    "model.fit(partial_x_train,\n",
    "       partial_y_train,\n",
    "       epochs=20,\n",
    "       batch_size=512,\n",
    "       validation_data = (x_val, y_val))"
   ]
  },
  {
   "cell_type": "code",
   "execution_count": 39,
   "metadata": {},
   "outputs": [
    {
     "name": "stdout",
     "output_type": "stream",
     "text": [
      "Train on 7982 samples, validate on 1000 samples\n",
      "Epoch 1/20\n",
      "7982/7982 [==============================] - 1s 157us/step - loss: 2.7081 - acc: 0.4798 - val_loss: 1.7380 - val_acc: 0.6180\n",
      "Epoch 2/20\n",
      "7982/7982 [==============================] - 1s 89us/step - loss: 1.5002 - acc: 0.6808 - val_loss: 1.3892 - val_acc: 0.6840\n",
      "Epoch 3/20\n",
      "7982/7982 [==============================] - 1s 90us/step - loss: 1.1868 - acc: 0.7316 - val_loss: 1.2276 - val_acc: 0.7110\n",
      "Epoch 4/20\n",
      "7982/7982 [==============================] - 1s 91us/step - loss: 0.9873 - acc: 0.7615 - val_loss: 1.1299 - val_acc: 0.7400\n",
      "Epoch 5/20\n",
      "7982/7982 [==============================] - 1s 90us/step - loss: 0.8186 - acc: 0.8104 - val_loss: 1.0750 - val_acc: 0.7530\n",
      "Epoch 6/20\n",
      "7982/7982 [==============================] - 1s 89us/step - loss: 0.6754 - acc: 0.8419 - val_loss: 1.0151 - val_acc: 0.7730\n",
      "Epoch 7/20\n",
      "7982/7982 [==============================] - 1s 90us/step - loss: 0.5563 - acc: 0.8662 - val_loss: 1.0491 - val_acc: 0.7570\n",
      "Epoch 8/20\n",
      "7982/7982 [==============================] - 1s 90us/step - loss: 0.4567 - acc: 0.8871 - val_loss: 1.0268 - val_acc: 0.7770\n",
      "Epoch 9/20\n",
      "7982/7982 [==============================] - 1s 91us/step - loss: 0.3753 - acc: 0.9087 - val_loss: 1.0179 - val_acc: 0.7960\n",
      "Epoch 10/20\n",
      "7982/7982 [==============================] - 1s 89us/step - loss: 0.3193 - acc: 0.9265 - val_loss: 0.9735 - val_acc: 0.8030\n",
      "Epoch 11/20\n",
      "7982/7982 [==============================] - 1s 89us/step - loss: 0.2680 - acc: 0.9384 - val_loss: 1.0101 - val_acc: 0.8040\n",
      "Epoch 12/20\n",
      "7982/7982 [==============================] - 1s 90us/step - loss: 0.2335 - acc: 0.9448 - val_loss: 1.0926 - val_acc: 0.7850\n",
      "Epoch 13/20\n",
      "7982/7982 [==============================] - 1s 89us/step - loss: 0.2058 - acc: 0.9486 - val_loss: 1.0301 - val_acc: 0.8100\n",
      "Epoch 14/20\n",
      "7982/7982 [==============================] - 1s 91us/step - loss: 0.1893 - acc: 0.9506 - val_loss: 1.0447 - val_acc: 0.8090\n",
      "Epoch 15/20\n",
      "7982/7982 [==============================] - 1s 92us/step - loss: 0.1604 - acc: 0.9554 - val_loss: 1.0574 - val_acc: 0.8060\n",
      "Epoch 16/20\n",
      "7982/7982 [==============================] - 1s 89us/step - loss: 0.1533 - acc: 0.9578 - val_loss: 1.1028 - val_acc: 0.8130\n",
      "Epoch 17/20\n",
      "7982/7982 [==============================] - 1s 89us/step - loss: 0.1475 - acc: 0.9582 - val_loss: 1.1209 - val_acc: 0.7950\n",
      "Epoch 18/20\n",
      "7982/7982 [==============================] - 1s 88us/step - loss: 0.1413 - acc: 0.9578 - val_loss: 1.1739 - val_acc: 0.7990\n",
      "Epoch 19/20\n",
      "7982/7982 [==============================] - 1s 91us/step - loss: 0.1385 - acc: 0.9569 - val_loss: 1.1013 - val_acc: 0.8110\n",
      "Epoch 20/20\n",
      "7982/7982 [==============================] - 1s 91us/step - loss: 0.1317 - acc: 0.9554 - val_loss: 1.3226 - val_acc: 0.7770\n"
     ]
    },
    {
     "data": {
      "text/plain": [
       "<keras.callbacks.History at 0x258380a4ef0>"
      ]
     },
     "execution_count": 39,
     "metadata": {},
     "output_type": "execute_result"
    }
   ],
   "source": [
    "model = models.Sequential()\n",
    "model.add(layers.Dense(32, activation='relu', input_shape=(10000,)))\n",
    "model.add(layers.Dense(64, activation='relu'))\n",
    "model.add(layers.Dense(128, activation='relu'))\n",
    "model.add(layers.Dense(46, activation='softmax'))\n",
    "\n",
    "model.compile(optimizer='rmsprop',\n",
    "             loss='categorical_crossentropy',\n",
    "             metrics=['accuracy'])\n",
    "\n",
    "# Training the network for 20 epochs\n",
    "model.fit(partial_x_train,\n",
    "       partial_y_train,\n",
    "       epochs=20,\n",
    "       batch_size=512,\n",
    "       validation_data = (x_val, y_val))"
   ]
  },
  {
   "cell_type": "code",
   "execution_count": 41,
   "metadata": {},
   "outputs": [
    {
     "name": "stdout",
     "output_type": "stream",
     "text": [
      "Train on 7982 samples, validate on 1000 samples\n",
      "Epoch 1/15\n",
      "7982/7982 [==============================] - 1s 137us/step - loss: 2.8648 - acc: 0.4618 - val_loss: 2.0413 - val_acc: 0.5790\n",
      "Epoch 2/15\n",
      "7982/7982 [==============================] - 1s 91us/step - loss: 1.6833 - acc: 0.6536 - val_loss: 1.5163 - val_acc: 0.6680\n",
      "Epoch 3/15\n",
      "7982/7982 [==============================] - 1s 91us/step - loss: 1.2838 - acc: 0.7234 - val_loss: 1.3009 - val_acc: 0.7180\n",
      "Epoch 4/15\n",
      "7982/7982 [==============================] - 1s 90us/step - loss: 1.0646 - acc: 0.7735 - val_loss: 1.1775 - val_acc: 0.7430\n",
      "Epoch 5/15\n",
      "7982/7982 [==============================] - 1s 88us/step - loss: 0.8975 - acc: 0.8047 - val_loss: 1.1153 - val_acc: 0.7550\n",
      "Epoch 6/15\n",
      "7982/7982 [==============================] - 1s 88us/step - loss: 0.7645 - acc: 0.8296 - val_loss: 1.0480 - val_acc: 0.7680\n",
      "Epoch 7/15\n",
      "7982/7982 [==============================] - 1s 89us/step - loss: 0.6511 - acc: 0.8520 - val_loss: 0.9869 - val_acc: 0.7980\n",
      "Epoch 8/15\n",
      "7982/7982 [==============================] - 1s 92us/step - loss: 0.5551 - acc: 0.8738 - val_loss: 0.9750 - val_acc: 0.7870\n",
      "Epoch 9/15\n",
      "7982/7982 [==============================] - 1s 91us/step - loss: 0.4703 - acc: 0.8968 - val_loss: 0.9296 - val_acc: 0.8000\n",
      "Epoch 10/15\n",
      "7982/7982 [==============================] - 1s 88us/step - loss: 0.4049 - acc: 0.9110 - val_loss: 0.9484 - val_acc: 0.7980\n",
      "Epoch 11/15\n",
      "7982/7982 [==============================] - 1s 92us/step - loss: 0.3409 - acc: 0.9247 - val_loss: 0.9099 - val_acc: 0.8120\n",
      "Epoch 12/15\n",
      "7982/7982 [==============================] - 1s 89us/step - loss: 0.2936 - acc: 0.9354 - val_loss: 0.9241 - val_acc: 0.8140\n",
      "Epoch 13/15\n",
      "7982/7982 [==============================] - 1s 89us/step - loss: 0.2549 - acc: 0.9401 - val_loss: 0.9366 - val_acc: 0.8120\n",
      "Epoch 14/15\n",
      "7982/7982 [==============================] - 1s 88us/step - loss: 0.2248 - acc: 0.9453 - val_loss: 0.9480 - val_acc: 0.8070\n",
      "Epoch 15/15\n",
      "7982/7982 [==============================] - 1s 91us/step - loss: 0.1986 - acc: 0.9495 - val_loss: 0.9490 - val_acc: 0.8100\n",
      "2246/2246 [==============================] - 0s 136us/step\n"
     ]
    },
    {
     "data": {
      "text/plain": [
       "[1.0602128011036005, 0.7840605521456854]"
      ]
     },
     "execution_count": 41,
     "metadata": {},
     "output_type": "execute_result"
    }
   ],
   "source": [
    "model = models.Sequential()\n",
    "model.add(layers.Dense(32, activation='relu', input_shape=(10000,)))\n",
    "model.add(layers.Dense(64, activation='relu'))\n",
    "model.add(layers.Dense(46, activation='softmax'))\n",
    "\n",
    "model.compile(optimizer='rmsprop',\n",
    "             loss='categorical_crossentropy',\n",
    "             metrics=['accuracy'])\n",
    "\n",
    "# Training the network for 20 epochs\n",
    "model.fit(partial_x_train,\n",
    "       partial_y_train,\n",
    "       epochs=15,\n",
    "       batch_size=512,\n",
    "       validation_data = (x_val, y_val))\n",
    "\n",
    "results = model.evaluate(x_test, one_hot_test_labels)\n",
    "results"
   ]
  }
 ],
 "metadata": {
  "kernelspec": {
   "display_name": "Python 3",
   "language": "python",
   "name": "python3"
  },
  "language_info": {
   "codemirror_mode": {
    "name": "ipython",
    "version": 3
   },
   "file_extension": ".py",
   "mimetype": "text/x-python",
   "name": "python",
   "nbconvert_exporter": "python",
   "pygments_lexer": "ipython3",
   "version": "3.6.3"
  }
 },
 "nbformat": 4,
 "nbformat_minor": 2
}
